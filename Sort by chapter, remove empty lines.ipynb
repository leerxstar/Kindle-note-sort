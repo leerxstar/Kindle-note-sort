{
 "cells": [
  {
   "cell_type": "code",
   "execution_count": 3,
   "id": "c0a22b60",
   "metadata": {},
   "outputs": [
    {
     "name": "stdout",
     "output_type": "stream",
     "text": [
      "处理完成，新文件保存为: processed_被讨厌的勇气.docx\n"
     ]
    }
   ],
   "source": [
    "from docx import Document\n",
    "import re\n",
    "\n",
    "def process_word_document(file_path):\n",
    "    # 打开Word文档\n",
    "    doc = Document(file_path)\n",
    "    \n",
    "    new_doc = Document()\n",
    "    note_counter = 0\n",
    "    current_section = None\n",
    "    is_first_section = True  # 标记是否是第一个章节\n",
    "    \n",
    "    # 遍历文档中的段落\n",
    "    for paragraph in doc.paragraphs:\n",
    "        text = paragraph.text.strip()\n",
    "\n",
    "        # 跳过空行\n",
    "        if not text:\n",
    "            continue\n",
    "\n",
    "        # 如果是章节标题（假设没有标号的行是章节标题）\n",
    "        if not re.match(r'^\\d+\\.', text) and len(text) > 0:\n",
    "            # 在每个章节之前插入一个空行，除了第一个章节\n",
    "            if not is_first_section:\n",
    "                new_doc.add_paragraph('')  # 插入空行\n",
    "            \n",
    "            current_section = text\n",
    "            new_doc.add_paragraph(current_section)  # 添加章节标题\n",
    "            note_counter = 0  # 章节开始，重置计数器\n",
    "            is_first_section = False  # 不是第一个章节了\n",
    "        elif re.match(r'^\\d+\\.', text):\n",
    "            # 重新编号条目\n",
    "            note_counter += 1\n",
    "            new_line = re.sub(r'^\\d+\\.', f\"{note_counter}.\", text)\n",
    "            new_doc.add_paragraph(new_line)  # 添加重新编号的条目\n",
    "        else:\n",
    "            new_doc.add_paragraph(text)  # 处理其他文本（如果有）\n",
    "\n",
    "    # 保存处理后的文档\n",
    "    output_path = 'processed_' + file_path\n",
    "    new_doc.save(output_path)\n",
    "\n",
    "    print(f\"处理完成，新文件保存为: {output_path}\")\n",
    "\n",
    "\n",
    "\n",
    "\n",
    "# 调用函数\n",
    "process_word_document('被讨厌的勇气.docx')\n",
    "\n",
    "\n"
   ]
  },
  {
   "cell_type": "code",
   "execution_count": null,
   "id": "27e69a2a",
   "metadata": {},
   "outputs": [],
   "source": []
  }
 ],
 "metadata": {
  "kernelspec": {
   "display_name": "Python 3 (ipykernel)",
   "language": "python",
   "name": "python3"
  },
  "language_info": {
   "codemirror_mode": {
    "name": "ipython",
    "version": 3
   },
   "file_extension": ".py",
   "mimetype": "text/x-python",
   "name": "python",
   "nbconvert_exporter": "python",
   "pygments_lexer": "ipython3",
   "version": "3.11.8"
  }
 },
 "nbformat": 4,
 "nbformat_minor": 5
}
